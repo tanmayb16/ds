{
 "cells": [
  {
   "cell_type": "code",
   "execution_count": 8,
   "id": "c7b2fbed-9741-4f3a-a304-166d0a18bc0e",
   "metadata": {},
   "outputs": [
    {
     "name": "stdout",
     "output_type": "stream",
     "text": [
      "Total sum of integer values: 4462641.0\n",
      "Mean:  557830.125\n",
      "Median:  5.5\n",
      "Median:  {'0': 1, '.': 1, '1': 3, '9': 2, '6': 1}\n"
     ]
    }
   ],
   "source": [
    "# .split(',') -- seprerates values using delimiter and converts them into list\n",
    "# basically this function reads the csv file data\n",
    "def read_csv(file_path):\n",
    "    with open(\"C:/Users/borun/Desktop/price_data.csv\",'r') as csv_file:\n",
    "        data = 0\n",
    "        for row in csv_file:\n",
    "            values = row.split(',')[2]  # Split the row by commas (assuming the file is comma-separated)\n",
    "#             print(values)\n",
    "            for value in values:\n",
    "                try:\n",
    "                    data += float(value)  # Convert value to integer and add to the data sum\n",
    "                except ValueError:\n",
    "                    pass  # Handle non-integer values gracefully\n",
    "    print(\"Total sum of integer values:\", data)\n",
    "    \n",
    "    # Mean\n",
    "    average = float(data/len(values))\n",
    "    print(\"Mean: \", average)\n",
    "    \n",
    "    # Median\n",
    "    sorted_data = sorted(values)\n",
    "    n = len(values)\n",
    "    mid = n//2\n",
    "    if n % 2 == 0:\n",
    "        print(\"Median: \", int(sorted_data[mid - 1] + sorted_data[mid]) / 2)\n",
    "    else:\n",
    "        print(\"Median: \", sorted_data[mid])\n",
    "        \n",
    "    # Mode\n",
    "    a = {}\n",
    "    for i in values:\n",
    "        if not i in a:\n",
    "            a[i] = 1\n",
    "        else:\n",
    "            a[i] += 1\n",
    "    print(\"Median: \", a)\n",
    "\n",
    "# read_csv('price_data.csv')\n",
    "\n",
    "\n",
    "\n",
    "\n",
    "\n",
    "# function to calculate mean of data\n",
    "def calculate_mean(data):\n",
    "    return sum(data) / len(data)\n",
    "\n",
    "# function to calculate median of data\n",
    "def calculate_median(data):\n",
    "    sorted_data = sorted(data)\n",
    "    n = len(data)\n",
    "    mid = n // 2\n",
    "    if n % 2 == 0:\n",
    "        return (sorted_data[mid - 1] + sorted_data[mid]) / 2\n",
    "    else:\n",
    "        return sorted_data[mid]\n",
    "    \n",
    "# function to calculate mode of data\n",
    "def calculate_mode(data):\n",
    "    frequency = {}\n",
    "    for item in data:\n",
    "        frequency[item] = frequency.get(item, 0) + 1\n",
    "    mode = max(frequency, key=frequency.get)\n",
    "    return mode, frequency[mode]\n",
    "\n",
    "\n",
    "\n",
    "read_csv(\"price_data.csv\")"
   ]
  },
  {
   "cell_type": "code",
   "execution_count": null,
   "id": "c4dc69c6-8534-47e8-b8ac-1eff92e141bd",
   "metadata": {},
   "outputs": [],
   "source": []
  }
 ],
 "metadata": {
  "kernelspec": {
   "display_name": "Python 3 (ipykernel)",
   "language": "python",
   "name": "python3"
  },
  "language_info": {
   "codemirror_mode": {
    "name": "ipython",
    "version": 3
   },
   "file_extension": ".py",
   "mimetype": "text/x-python",
   "name": "python",
   "nbconvert_exporter": "python",
   "pygments_lexer": "ipython3",
   "version": "3.11.9"
  }
 },
 "nbformat": 4,
 "nbformat_minor": 5
}
